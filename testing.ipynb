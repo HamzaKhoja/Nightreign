{
 "cells": [
  {
   "cell_type": "markdown",
   "id": "972284fe",
   "metadata": {},
   "source": [
    "Coords"
   ]
  },
  {
   "cell_type": "code",
   "execution_count": 4,
   "id": "3370cec5",
   "metadata": {},
   "outputs": [
    {
     "name": "stdout",
     "output_type": "stream",
     "text": [
      "816, -360\n",
      "320, -560\n",
      "1056, -576\n",
      "1200, -560\n",
      "560, -624\n",
      "304, -880\n",
      "1240, -912\n",
      "848, -992\n",
      "304, -1104\n",
      "704, -1088\n",
      "880, -1240\n"
     ]
    }
   ],
   "source": [
    "# Default Map\n",
    "xs = [510, 200, 660, 750, 350, 190, 775, 530, 190, 440, 550]\n",
    "ys = [225, 350, 360, 350, 390, 550, 570, 620, 690, 680, 775]\n",
    "\n",
    "for i in range(len(xs)):\n",
    "    # print(f\"{xs[i]/960*100:.2f}, {ys[i]/960*100:.2f}\")  # Adjusted to match the original format\n",
    "    print(f\"{int(xs[i]/960*1536)}, {int(ys[i]/960*-1536)}\")  # Original format without percentage conversion"
   ]
  },
  {
   "cell_type": "markdown",
   "id": "1c5ab6b0",
   "metadata": {},
   "source": [
    "(816, -360)\n",
    "(320, -560)\n",
    "(1056, -576)\n",
    "(1200, -560)\n",
    "(560, -624)\n",
    "(304, -880)\n",
    "(1240, -912)\n",
    "(848, -992)\n",
    "(304, -1104)\n",
    "(704, -1088)\n",
    "(880, -1240)"
   ]
  },
  {
   "cell_type": "markdown",
   "id": "57b1f75d",
   "metadata": {},
   "source": [
    "seeds"
   ]
  },
  {
   "cell_type": "code",
   "execution_count": null,
   "id": "e22dbc44",
   "metadata": {},
   "outputs": [],
   "source": [
    "import pandas as pd\n",
    "\n",
    "# Load the original CSV\n",
    "df = pd.read_csv('sheets/Churches and Rises.csv')\n",
    "\n",
    "# Extract the 11 location IDs from the first row (columns 3 onward)\n",
    "loc_ids = df.iloc[0, 3:].tolist()\n",
    "\n",
    "# Build rows for seeds.csv\n",
    "rows = []\n",
    "for _, row in df.iloc[1:].iterrows():\n",
    "    seed_id = int(row['ID'])\n",
    "    boss = row['Nightlord']\n",
    "    earth = row['Shifting Earth']\n",
    "    if pd.isna(boss) or pd.isna(earth):\n",
    "        continue\n",
    "    church = []\n",
    "    rise = []\n",
    "    for i, loc in enumerate(loc_ids):\n",
    "        desc = str(row.iloc[3 + i])\n",
    "        if 'Church' in desc:\n",
    "            church.append(loc)\n",
    "        if \"Sorcerer's Rise\" in desc:\n",
    "            rise.append(loc)\n",
    "    rows.append({\n",
    "        'ID': seed_id,\n",
    "        'churchLocations': ';'.join(church),\n",
    "        'riseLocations': ';'.join(rise)\n",
    "    })\n",
    "\n",
    "# Create DataFrame and write out seeds.csv\n",
    "seeds_df = pd.DataFrame(rows)\n",
    "seeds_df.to_csv('sheets/seeds.csv', index=False)"
   ]
  },
  {
   "cell_type": "markdown",
   "id": "a3259b43",
   "metadata": {},
   "source": []
  }
 ],
 "metadata": {
  "kernelspec": {
   "display_name": "Python 3",
   "language": "python",
   "name": "python3"
  },
  "language_info": {
   "codemirror_mode": {
    "name": "ipython",
    "version": 3
   },
   "file_extension": ".py",
   "mimetype": "text/x-python",
   "name": "python",
   "nbconvert_exporter": "python",
   "pygments_lexer": "ipython3",
   "version": "3.11.9"
  }
 },
 "nbformat": 4,
 "nbformat_minor": 5
}
