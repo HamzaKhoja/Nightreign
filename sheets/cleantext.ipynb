{
 "cells": [
  {
   "cell_type": "code",
   "execution_count": 35,
   "id": "c8f1f7e1",
   "metadata": {},
   "outputs": [
    {
     "name": "stdout",
     "output_type": "stream",
     "text": [
      "Watching clipboard…  (Ctrl-C to quit)\n",
      "Clipboard updated → ,-,-,-,-,    # 1. Split into lines, drop empty ones,-,-,-,-,-,-,-,-,-,    # 3. Join as a comma-separated string and adjust if it contains “/”,-,-,-,-,float = 0.5):,-,-,-,-,-,-,-,-,-,-,-,-,-\n",
      "Clipboard updated → 10,35,10,10,20,40,0,40\n",
      "Clipboard updated → ,154 / 252 / 542 / 999,154 / 252 / 542 / 999,252 / 542 / 999,252 / 542 / 999,154 / 252 / 542 / 999,-,-\n",
      "Clipboard updated → 10,35,10,10,40,80,40,40\n",
      "Clipboard updated → ,252 / 542 / 999,252 / 542 / 999,252 / 542 / 999,542 / 999,112 / 154 / 252 / 542 / 999,-,-\n",
      "Clipboard updated → 10,10,10,10,40,40,0,20\n",
      "Clipboard updated → ,154 / 252 / 542 / 999,154 / 252 / 542 / 999,252 / 542 / 999,252 / 542 / 999,154 / 252 / 542 / 999,-,-\n",
      "Clipboard updated → 10,10,-40,35,20,20,40,-40\n",
      "Clipboard updated → ,-,253 / 542 / 999,-,-,-,-,-\n",
      "Clipboard updated → 10,35,0,35,20,40,40,80\n",
      "Clipboard updated → -,-,-,-,-,-\n",
      "Clipboard updated → 10,35,10,10,20,40,40,20\n",
      "Clipboard updated → ,154 / 252 / 542 / 999,154 / 252 / 542 / 999,252 / 542 / 999,252 / 542 / 999,154 / 252 / 542 / 999,-,-\n"
     ]
    },
    {
     "ename": "KeyboardInterrupt",
     "evalue": "",
     "output_type": "error",
     "traceback": [
      "\u001b[1;31m---------------------------------------------------------------------------\u001b[0m",
      "\u001b[1;31mKeyboardInterrupt\u001b[0m                         Traceback (most recent call last)",
      "Cell \u001b[1;32mIn[35], line 37\u001b[0m\n\u001b[0;32m     35\u001b[0m \u001b[38;5;28;01mif\u001b[39;00m \u001b[38;5;18m__name__\u001b[39m \u001b[38;5;241m==\u001b[39m \u001b[38;5;124m\"\u001b[39m\u001b[38;5;124m__main__\u001b[39m\u001b[38;5;124m\"\u001b[39m:\n\u001b[0;32m     36\u001b[0m     \u001b[38;5;28mprint\u001b[39m(\u001b[38;5;124m\"\u001b[39m\u001b[38;5;124mWatching clipboard…  (Ctrl-C to quit)\u001b[39m\u001b[38;5;124m\"\u001b[39m)\n\u001b[1;32m---> 37\u001b[0m     \u001b[43mwatch_clipboard\u001b[49m\u001b[43m(\u001b[49m\u001b[43m)\u001b[49m\n",
      "Cell \u001b[1;32mIn[35], line 33\u001b[0m, in \u001b[0;36mwatch_clipboard\u001b[1;34m(poll_interval)\u001b[0m\n\u001b[0;32m     31\u001b[0m     \u001b[38;5;28mprint\u001b[39m(\u001b[38;5;124mf\u001b[39m\u001b[38;5;124m\"\u001b[39m\u001b[38;5;124mClipboard updated → \u001b[39m\u001b[38;5;132;01m{\u001b[39;00mtransformed\u001b[38;5;132;01m}\u001b[39;00m\u001b[38;5;124m\"\u001b[39m)\n\u001b[0;32m     32\u001b[0m     last \u001b[38;5;241m=\u001b[39m transformed\n\u001b[1;32m---> 33\u001b[0m time\u001b[38;5;241m.\u001b[39msleep(poll_interval)\n",
      "\u001b[1;31mKeyboardInterrupt\u001b[0m: "
     ]
    }
   ],
   "source": [
    "import re\n",
    "import time\n",
    "import pyperclip\n",
    "\n",
    "def extract_values(text: str) -> str:\n",
    "    # 1. Split into lines, drop empty ones\n",
    "    lines = [ln for ln in text.splitlines() if ln.strip()]\n",
    "\n",
    "    # 2. For each line, remove everything up to and including the first “:”\n",
    "    #    then normalize non-numeric entries to “-”\n",
    "    values = []\n",
    "    for ln in lines:\n",
    "        data = re.sub(r'^.*?:\\s*', '', ln)\n",
    "        if not re.search(r'\\d', data):\n",
    "            data = '-'\n",
    "        values.append(data)\n",
    "\n",
    "    # 3. Join as a comma-separated string and adjust if it contains “/”\n",
    "    result = ','.join(values)\n",
    "    if \"/\" in result:\n",
    "        result = \",\" + result + \",-\"\n",
    "    return result\n",
    "\n",
    "def watch_clipboard(poll_interval: float = 0.5):\n",
    "    last = None\n",
    "    while True:\n",
    "        current = pyperclip.paste()\n",
    "        if current != last:\n",
    "            transformed = extract_values(current)\n",
    "            pyperclip.copy(transformed)\n",
    "            print(f\"Clipboard updated → {transformed}\")\n",
    "            last = transformed\n",
    "        time.sleep(poll_interval)\n",
    "\n",
    "if __name__ == \"__main__\":\n",
    "    print(\"Watching clipboard…  (Ctrl-C to quit)\")\n",
    "    watch_clipboard()\n"
   ]
  },
  {
   "cell_type": "code",
   "execution_count": 2,
   "id": "c07f0d5c",
   "metadata": {},
   "outputs": [],
   "source": [
    "import re\n",
    "import pyperclip\n",
    "\n",
    "def extract_values(text):\n",
    "    # 1. Split into lines, drop empty ones\n",
    "    lines = [ln for ln in text.splitlines() if ln.strip()]\n",
    "\n",
    "    # 2. For each line, remove everything up to and including the first “:”\n",
    "    #    then normalize non-numeric entries to “-”\n",
    "    values = []\n",
    "    for ln in lines:\n",
    "        data = re.sub(r'^.*?:\\s*', '', ln)\n",
    "        # if it’s not digits/slashes, treat as “-”\n",
    "        if not re.search(r'\\d', data):\n",
    "            data = '-'\n",
    "        values.append(data)\n",
    "\n",
    "    # 3. Join as a comma-separated string\n",
    "    result = ','.join(values)\n",
    "    if (\"/\") in result:\n",
    "        result = \",\" + result + \",-\"\n",
    "    print(result)\n",
    "    pyperclip.copy(result)"
   ]
  },
  {
   "cell_type": "code",
   "execution_count": 34,
   "id": "d8eb2960",
   "metadata": {},
   "outputs": [
    {
     "name": "stdout",
     "output_type": "stream",
     "text": [
      ",542 / 999,542 / 999,542 / 999,542 / 999,-,-,-\n"
     ]
    }
   ],
   "source": [
    "text = \"\"\"\n",
    "\n",
    "\n",
    "\n",
    "    poison status effect elden ring wiki guide 25pxPoison: 542 / 999\n",
    "    scarlet rot status effect elden ring wiki guide 25pxScarlet Rot: 542 / 999\n",
    "    hemorrhage status effect elden ring nightreign wiki guide 100pxBlood Loss: 542 / 999\n",
    "    frostbite status effect elden ring wiki guide 25pxFrostbite: 542 / 999\n",
    "\n",
    "    sleep status effect elden ring wiki guide 25pxSleep: Immune\n",
    "    madness status effect elden ring wiki guide 25pxMadness: Immune\n",
    "\n",
    "\n",
    "\"\"\"\n",
    "\n",
    "extract_values(text)"
   ]
  }
 ],
 "metadata": {
  "kernelspec": {
   "display_name": "Python 3",
   "language": "python",
   "name": "python3"
  },
  "language_info": {
   "codemirror_mode": {
    "name": "ipython",
    "version": 3
   },
   "file_extension": ".py",
   "mimetype": "text/x-python",
   "name": "python",
   "nbconvert_exporter": "python",
   "pygments_lexer": "ipython3",
   "version": "3.11.9"
  }
 },
 "nbformat": 4,
 "nbformat_minor": 5
}
