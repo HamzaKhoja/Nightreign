{
 "cells": [
  {
   "cell_type": "code",
   "execution_count": null,
   "id": "c07f0d5c",
   "metadata": {},
   "outputs": [],
   "source": [
    "import re\n",
    "\n",
    "def extract_values(text):\n",
    "    # 1. Split into lines, drop empty ones\n",
    "    lines = [ln for ln in text.splitlines() if ln.strip()]\n",
    "\n",
    "    # 2. For each line, remove everything up to and including the first “:”\n",
    "    #    then normalize non-numeric entries to “-”\n",
    "    values = []\n",
    "    for ln in lines:\n",
    "        data = re.sub(r'^.*?:\\s*', '', ln)\n",
    "        # if it’s not digits/slashes, treat as “-”\n",
    "        if not re.search(r'\\d', data):\n",
    "            data = '-'\n",
    "        values.append(data)\n",
    "\n",
    "    # 3. Join as a comma-separated string\n",
    "    result = ','.join(values)\n",
    "    if (\"/\") in result:\n",
    "        result = \",\" + result + \",-\"\n",
    "    print(result)"
   ]
  },
  {
   "cell_type": "code",
   "execution_count": 68,
   "id": "d8eb2960",
   "metadata": {},
   "outputs": [
    {
     "name": "stdout",
     "output_type": "stream",
     "text": [
      ",-,252 / 542 / 999,252 / 542 / 999,-,-,-,-\n"
     ]
    }
   ],
   "source": [
    "text = \"\"\"\n",
    "\n",
    "\n",
    "    poison status effect elden ring wiki guide 25pxPoison: Immune\n",
    "    scarlet rot status effect elden ring wiki guide 25pxScarlet Rot: 252 / 542 / 999\n",
    "    hemorrhage status effect elden ring nightreign wiki guide 100pxBlood Loss: 252 / 542 / 999\n",
    "    frostbite status effect elden ring wiki guide 25pxFrostbite: Immune\n",
    "\n",
    "    sleep status effect elden ring wiki guide 25pxSleep: Immune\n",
    "    madness status effect elden ring wiki guide 25pxMadness: Immune\n",
    "\n",
    "\n",
    "\"\"\"\n",
    "\n",
    "extract_values(text)"
   ]
  }
 ],
 "metadata": {
  "kernelspec": {
   "display_name": "Python 3",
   "language": "python",
   "name": "python3"
  },
  "language_info": {
   "codemirror_mode": {
    "name": "ipython",
    "version": 3
   },
   "file_extension": ".py",
   "mimetype": "text/x-python",
   "name": "python",
   "nbconvert_exporter": "python",
   "pygments_lexer": "ipython3",
   "version": "3.11.9"
  }
 },
 "nbformat": 4,
 "nbformat_minor": 5
}
